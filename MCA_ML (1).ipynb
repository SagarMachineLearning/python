{
  "nbformat": 4,
  "nbformat_minor": 0,
  "metadata": {
    "colab": {
      "name": "MCA_ML.ipynb",
      "provenance": []
    },
    "kernelspec": {
      "name": "python3",
      "display_name": "Python 3"
    },
    "language_info": {
      "name": "python"
    }
  },
  "cells": [
    {
      "cell_type": "code",
      "metadata": {
        "id": "jR_FUSB2PWc7"
      },
      "source": [
        "import numpy as np"
      ],
      "execution_count": null,
      "outputs": []
    },
    {
      "cell_type": "code",
      "metadata": {
        "id": "SZ9-kls2H297"
      },
      "source": [
        "#creating an array of type int and length 10\n",
        "print(np.zeros(10, dtype='int'))#creating array with zeros length 10\n",
        "print(np.ones((3,5), dtype=float))# creating array with flaoting point values\n",
        "print(np.full((3,5),1.23))#creating array with pre-defined values\n",
        "print(np.arange(0, 20, 2))#create an array with a set sequence\n",
        "print(np.linspace(0, 1, 5)) #create a 3x3 array with mean 0 and standard deviation 1 in a given dimension\n",
        "print(np.eye(3))#create an identity matrix"
      ],
      "execution_count": null,
      "outputs": []
    },
    {
      "cell_type": "code",
      "metadata": {
        "colab": {
          "base_uri": "https://localhost:8080/"
        },
        "id": "oCo7l6BlQe50",
        "outputId": "b136a216-e7e9-4a5e-b3dd-b2eed1aad87b"
      },
      "source": [
        "#accessing array elements\n",
        "x1 = np.array([4, 3, 2, 13, 8, 4])\n",
        "print(x1)\n",
        "print(x1[0], x1[5])\n",
        "print(x1[-1], x1[-6])\n",
        "x2=np.array([[3, 7, 5, 5],\n",
        "      [0, 1, 5, 9],\n",
        "      [3, 0, 5, 0]])\n",
        "print(x2)\n",
        "print(x2[2,3])\n",
        "print(x2[2,-2])\n"
      ],
      "execution_count": null,
      "outputs": [
        {
          "output_type": "stream",
          "name": "stdout",
          "text": [
            "[ 4  3  2 13  8  4]\n",
            "4 4\n",
            "4 4\n",
            "[[3 7 5 5]\n",
            " [0 1 5 9]\n",
            " [3 0 5 0]]\n",
            "0\n",
            "5\n"
          ]
        }
      ]
    },
    {
      "cell_type": "code",
      "metadata": {
        "colab": {
          "base_uri": "https://localhost:8080/"
        },
        "id": "nsyFzCQ7RN6a",
        "outputId": "29bcf416-4800-4e71-da4b-0da01fa5267c"
      },
      "source": [
        "#array slicing single dimension\n",
        "x = np.arange(10)\n",
        "print(x)\n",
        "print(x[:5])#from start to 4th position\n",
        "print(x[4:])#from 4th position to end\n",
        "print(x[4:7])#from 4th position to 6\n",
        "print(x[: : 2])#return elements at even place\n",
        "print(x[: : -1])#reverse the array\n",
        "print(x[1: : 2])#return elements from index 1 position step by two"
      ],
      "execution_count": null,
      "outputs": [
        {
          "output_type": "stream",
          "name": "stdout",
          "text": [
            "[0 1 2 3 4 5 6 7 8 9]\n",
            "[0 1 2 3 4]\n",
            "[4 5 6 7 8 9]\n",
            "[4 5 6]\n",
            "[0 2 4 6 8]\n",
            "[9 8 7 6 5 4 3 2 1 0]\n",
            "[1 3 5 7 9]\n"
          ]
        }
      ]
    },
    {
      "cell_type": "code",
      "metadata": {
        "colab": {
          "base_uri": "https://localhost:8080/"
        },
        "id": "D1CDpm-tT2W4",
        "outputId": "b8eed50e-4925-4226-a371-fdd80a7fb948"
      },
      "source": [
        "#array slicining in multidimensional array\n",
        "print(x2)\n",
        "print(x2.shape)\n",
        "print(x2[0:2])\n",
        "print(x2[0:2,1:3])\n",
        "print(x2[2])\n",
        "print(x2[:,2])"
      ],
      "execution_count": null,
      "outputs": [
        {
          "output_type": "stream",
          "name": "stdout",
          "text": [
            "[[3 7 5 5]\n",
            " [0 1 5 9]\n",
            " [3 0 5 0]]\n",
            "(3, 4)\n",
            "[[3 7 5 5]\n",
            " [0 1 5 9]]\n",
            "[[7 5]\n",
            " [1 5]\n",
            " [0 5]]\n",
            "[3 0 5 0]\n",
            "[5 5 5]\n"
          ]
        }
      ]
    },
    {
      "cell_type": "code",
      "metadata": {
        "id": "tZcfC7WhaKSO"
      },
      "source": [
        "# creating 3D array in numpy\n",
        "x3 = np.array([[[1, 2], [3, 4]], [[5, 6], [7, 8]]])\n",
        "print(x3)\n",
        "print(x3.shape)\n",
        "print(x3[0,0,1])"
      ],
      "execution_count": null,
      "outputs": []
    },
    {
      "cell_type": "code",
      "metadata": {
        "colab": {
          "base_uri": "https://localhost:8080/"
        },
        "id": "6Vf8yDMUbkJm",
        "outputId": "2b771e90-d079-465e-d773-04aa7fdc2589"
      },
      "source": [
        "#Splitting and concatenation of arrays\n",
        "#concatenation\n",
        "x1=np.arange(0,10,2)\n",
        "x2=np.arange(10,20,2)\n",
        "print(x1,x2)\n",
        "#x3=np.concatenate([x1, x2], axis=0)\n",
        "#x3=np.stack([x1,x2], axis=0)\n",
        "x3=np.vstack([x1,x2])\n",
        "print(x3)\n",
        "\n",
        "\n"
      ],
      "execution_count": null,
      "outputs": [
        {
          "output_type": "stream",
          "name": "stdout",
          "text": [
            "[0 2 4 6 8] [10 12 14 16 18]\n",
            "[[ 0  2  4  6  8]\n",
            " [10 12 14 16 18]]\n"
          ]
        }
      ]
    },
    {
      "cell_type": "code",
      "metadata": {
        "colab": {
          "base_uri": "https://localhost:8080/"
        },
        "id": "hGDsq5eIACDE",
        "outputId": "2b446a4b-5642-455e-af66-8a588c7a59f9"
      },
      "source": [
        "#2D array concatenta\n",
        "x1=np.array([[1,2,3,4],[5,6,7,8]])\n",
        "x2=np.array([[9,10,11,12],[13,14,15,16]])\n",
        "#print(x1,x2)\n",
        "x3=np.concatenate([x1, x2],axis=0)\n",
        "x3=np.hstack([x1, x2])\n",
        "x3=np.vstack([x1, x2])\n",
        "print(x3, x3.shape)\n",
        "np.hsplit(x3,[2])\n",
        "\n"
      ],
      "execution_count": null,
      "outputs": [
        {
          "output_type": "stream",
          "name": "stdout",
          "text": [
            "[[ 1  2  3  4]\n",
            " [ 5  6  7  8]\n",
            " [ 9 10 11 12]\n",
            " [13 14 15 16]] (4, 4)\n"
          ]
        },
        {
          "output_type": "execute_result",
          "data": {
            "text/plain": [
              "[array([[ 1,  2],\n",
              "        [ 5,  6],\n",
              "        [ 9, 10],\n",
              "        [13, 14]]), array([[ 3,  4],\n",
              "        [ 7,  8],\n",
              "        [11, 12],\n",
              "        [15, 16]])]"
            ]
          },
          "metadata": {},
          "execution_count": 80
        }
      ]
    },
    {
      "cell_type": "code",
      "metadata": {
        "colab": {
          "base_uri": "https://localhost:8080/"
        },
        "id": "Do3dnBhZBPSR",
        "outputId": "b01d505e-22a9-4372-db14-62a375c911b0"
      },
      "source": [
        "#array Splitting\n",
        "x1=np.arange(0,15,2)\n",
        "print(x1)\n",
        "#x2=np.split(x1,[3])#spilt before index 2 and 4\n",
        "x2=np.array_split(x1,3)#split into array of size 3\n",
        "print(x2)\n"
      ],
      "execution_count": null,
      "outputs": [
        {
          "output_type": "stream",
          "name": "stdout",
          "text": [
            "[ 0  2  4  6  8 10 12 14]\n",
            "[array([0, 2, 4]), array([ 6,  8, 10]), array([12, 14])]\n"
          ]
        }
      ]
    },
    {
      "cell_type": "code",
      "metadata": {
        "colab": {
          "base_uri": "https://localhost:8080/"
        },
        "id": "3X48qqRkJwO0",
        "outputId": "1f472c32-24ee-4662-e753-4652666cb026"
      },
      "source": [
        "#array reshaping\n",
        "print(x3)\n",
        "r,c=x3.shape\n",
        "print(r,c)\n",
        "x4=x3.reshape(-1,2)\n",
        "print(x4)\n",
        "#x4=x3.reshape(-1,2, order=\"F\")#replace col by col\n",
        "x4=np.ravel(x3, order=\"C\")\n",
        "x5=np.ravel\n",
        "print(x4)"
      ],
      "execution_count": null,
      "outputs": [
        {
          "output_type": "stream",
          "name": "stdout",
          "text": [
            "[[ 1  2  3  4]\n",
            " [ 5  6  7  8]\n",
            " [ 9 10 11 12]\n",
            " [13 14 15 16]]\n",
            "4 4\n",
            "[[ 1  2]\n",
            " [ 3  4]\n",
            " [ 5  6]\n",
            " [ 7  8]\n",
            " [ 9 10]\n",
            " [11 12]\n",
            " [13 14]\n",
            " [15 16]]\n",
            "[ 1  5  9 13  2  6 10 14  3  7 11 15  4  8 12 16]\n"
          ]
        }
      ]
    },
    {
      "cell_type": "code",
      "metadata": {
        "colab": {
          "base_uri": "https://localhost:8080/"
        },
        "id": "MlM3M0PqTw_j",
        "outputId": "9e1cbf2d-fbaa-4813-e72e-81d9ad68a1f5"
      },
      "source": [
        "a1 = np.arange(1, 13).reshape(3, -1)  # 3_4\n",
        "a2 = np.arange(13, 25).reshape(3, -1)  # 3_4\n",
        "a3=np.dstack([a1,a2])\n",
        "print(a3,a3.shape)\n",
        "a4=a3.reshape(2,2,-1)\n",
        "print(a4, a4.shape)"
      ],
      "execution_count": null,
      "outputs": [
        {
          "output_type": "stream",
          "name": "stdout",
          "text": [
            "[[[ 1 13]\n",
            "  [ 2 14]\n",
            "  [ 3 15]\n",
            "  [ 4 16]]\n",
            "\n",
            " [[ 5 17]\n",
            "  [ 6 18]\n",
            "  [ 7 19]\n",
            "  [ 8 20]]\n",
            "\n",
            " [[ 9 21]\n",
            "  [10 22]\n",
            "  [11 23]\n",
            "  [12 24]]] (3, 4, 2)\n",
            "[[[ 1 13  2 14  3 15]\n",
            "  [ 4 16  5 17  6 18]]\n",
            "\n",
            " [[ 7 19  8 20  9 21]\n",
            "  [10 22 11 23 12 24]]] (2, 2, 6)\n"
          ]
        }
      ]
    },
    {
      "cell_type": "code",
      "metadata": {
        "colab": {
          "base_uri": "https://localhost:8080/"
        },
        "id": "fW6Mr2wmbL3p",
        "outputId": "53527f76-cc36-4cfb-c347-69cd40918333"
      },
      "source": [
        "#arithmetric operation on matrix\n",
        "A=np.array([[1,2,3,4],[5,6,7,8]])\n",
        "A,B=np.vsplit(A,[1])\n",
        "A=A.reshape(2,-1)\n",
        "B=B.reshape(2,-1)\n",
        "print(A)\n",
        "print(B)\n",
        "#  Addition of a scaler\n",
        "print (\"Addition of two matrices: \")\n",
        "print (np.add(A,2))#A+B\n",
        "#  add()is used to add matrices\n",
        "print (\"Addition of two matrices: \")\n",
        "print (np.add(A,B))#A+B\n",
        "# subtract()is used to subtract matrices\n",
        "print (\"Subtraction of two matrices : \")\n",
        "print (np.subtract(A,B))#A-B\n",
        "# divide()is used to divide matrices\n",
        "print (\"Matrix Division : \")\n",
        "print (np.divide(A,B))\n",
        "print (\"Multiplication of two matrices: \")\n",
        "print (np.multiply(A,B))#A*B\n",
        "print (\"The product of two matrices : \")\n",
        "print (np.dot(A,B))\n",
        "print (\"square root is : \")\n",
        "print (np.sqrt(A))#A**2\n",
        "print (\"The summation of elements : \")\n",
        "print (np.sum(A))\n",
        "print (\"The column wise summation  : \")\n",
        "print (np.sum(A,axis=0))\n",
        "print (\"The row wise summation: \")\n",
        "print (np.sum(A,axis=1))\n",
        "# using \"T\" to transpose the matrix\n",
        "print (\"Matrix transposition : \")\n",
        "print (A.T)\n",
        "#moving axis (matrix, source, desination)\n",
        "print(np.moveaxis(A,0,1 ))\n",
        "print(A.diagonal())"
      ],
      "execution_count": null,
      "outputs": [
        {
          "output_type": "stream",
          "name": "stdout",
          "text": [
            "[[1 2]\n",
            " [3 4]]\n",
            "[[5 6]\n",
            " [7 8]]\n",
            "Addition of two matrices: \n",
            "[[3 4]\n",
            " [5 6]]\n",
            "Addition of two matrices: \n",
            "[[ 6  8]\n",
            " [10 12]]\n",
            "Subtraction of two matrices : \n",
            "[[-4 -4]\n",
            " [-4 -4]]\n",
            "Matrix Division : \n",
            "[[0.2        0.33333333]\n",
            " [0.42857143 0.5       ]]\n",
            "Multiplication of two matrices: \n",
            "[[ 5 12]\n",
            " [21 32]]\n",
            "The product of two matrices : \n",
            "[[19 22]\n",
            " [43 50]]\n",
            "square root is : \n",
            "[[1.         1.41421356]\n",
            " [1.73205081 2.        ]]\n",
            "The summation of elements : \n",
            "10\n",
            "The column wise summation  : \n",
            "[4 6]\n",
            "The row wise summation: \n",
            "[3 7]\n",
            "Matrix transposition : \n",
            "[[1 3]\n",
            " [2 4]]\n",
            "[[1 3]\n",
            " [2 4]]\n",
            "[1 4]\n"
          ]
        }
      ]
    },
    {
      "cell_type": "code",
      "metadata": {
        "colab": {
          "base_uri": "https://localhost:8080/",
          "height": 198
        },
        "id": "DmYL0KzXkia6",
        "outputId": "22fd3230-b497-4585-ef7b-560eb799b547"
      },
      "source": [
        "\"\"\"\n",
        "print(A+2)\n",
        "print(A*2)\n",
        "print(A**2)\n",
        "print(A+B)\n",
        "print(A@B)\n",
        "print(A*B)\n",
        "\"\"\"\n",
        "\n"
      ],
      "execution_count": null,
      "outputs": [
        {
          "output_type": "error",
          "ename": "TypeError",
          "evalue": "ignored",
          "traceback": [
            "\u001b[0;31m---------------------------------------------------------------------------\u001b[0m",
            "\u001b[0;31mTypeError\u001b[0m                                 Traceback (most recent call last)",
            "\u001b[0;32m<ipython-input-124-cf66300a6e31>\u001b[0m in \u001b[0;36m<module>\u001b[0;34m()\u001b[0m\n\u001b[1;32m      7\u001b[0m \u001b[0mprint\u001b[0m\u001b[0;34m(\u001b[0m\u001b[0mA\u001b[0m\u001b[0;34m*\u001b[0m\u001b[0mB\u001b[0m\u001b[0;34m)\u001b[0m\u001b[0;34m\u001b[0m\u001b[0;34m\u001b[0m\u001b[0m\n\u001b[1;32m      8\u001b[0m \"\"\"\n\u001b[0;32m----> 9\u001b[0;31m \u001b[0mprint\u001b[0m\u001b[0;34m(\u001b[0m\u001b[0mA\u001b[0m\u001b[0;34m.\u001b[0m\u001b[0mmin\u001b[0m\u001b[0;34m(\u001b[0m\u001b[0;34m)\u001b[0m\u001b[0;34m,\u001b[0m\u001b[0maxis\u001b[0m\u001b[0;34m=\u001b[0m\u001b[0;36m0\u001b[0m\u001b[0;34m)\u001b[0m\u001b[0;34m\u001b[0m\u001b[0;34m\u001b[0m\u001b[0m\n\u001b[0m",
            "\u001b[0;31mTypeError\u001b[0m: 'axis' is an invalid keyword argument for print()"
          ]
        }
      ]
    },
    {
      "cell_type": "code",
      "metadata": {
        "colab": {
          "base_uri": "https://localhost:8080/"
        },
        "id": "dBF5ueCTmvww",
        "outputId": "6917e371-bf95-4b8b-ac9e-df7872abff7a"
      },
      "source": [
        "print(A)\n",
        "print(A.min())\n",
        "print(A.max())\n",
        "print(A.mean())\n",
        "print(np.std(A))\n",
        "print(A.min(axis=1))\n",
        "print(A.max(axis=1))\n",
        "print(A.mean(axis=1))\n"
      ],
      "execution_count": null,
      "outputs": [
        {
          "output_type": "stream",
          "name": "stdout",
          "text": [
            "[[1 2]\n",
            " [3 4]]\n",
            "1\n",
            "4\n",
            "2.5\n",
            "1.118033988749895\n",
            "[1 3]\n",
            "[2 4]\n",
            "[1.5 3.5]\n"
          ]
        }
      ]
    },
    {
      "cell_type": "code",
      "metadata": {
        "colab": {
          "base_uri": "https://localhost:8080/"
        },
        "id": "NmIqEnIm0LwA",
        "outputId": "770d59a8-15aa-410b-931c-1c1655b6bb71"
      },
      "source": [
        "A=np.array([1,1,2,3,1,2,3,4,5,6,3,4,4,5,7,6,8,9,1,4,8])\n",
        "print(np.unique(A))\n",
        "uniqueValues, indicesList, frequency = np.unique(A, return_index=True,return_counts=True)\n",
        "print(uniqueValues, indicesList, frequency)"
      ],
      "execution_count": null,
      "outputs": [
        {
          "output_type": "stream",
          "name": "stdout",
          "text": [
            "[1 2 3 4 5 6 7 8 9]\n",
            "[1 2 3 4 5 6 7 8 9] [ 0  2  3  7  8  9 14 16 17] [4 2 3 4 2 2 1 2 1]\n"
          ]
        }
      ]
    },
    {
      "cell_type": "code",
      "metadata": {
        "colab": {
          "base_uri": "https://localhost:8080/"
        },
        "id": "p20Ad7epv2u7",
        "outputId": "d61dddad-28fa-462b-eb03-5c470f7c97af"
      },
      "source": [
        "A=np.array([[1, 2,1, 3], [4, 3, 2, 1],  [2,1, 1,3], [5,1, 5, 2]])\n",
        "print(A)\n",
        "#B=list(set(A.ravel()))\n",
        "print(np.unique(A))\n",
        "#print(B)\n",
        "uniqueValues, indicesList, frequency = np.unique(A, return_index=True,return_counts=True)\n",
        "print(uniqueValues, indicesList, frequency)\n",
        "UniqueList=list(zip(uniqueValues, indicesList, frequency))\n",
        "print(UniqueList)"
      ],
      "execution_count": null,
      "outputs": [
        {
          "output_type": "stream",
          "name": "stdout",
          "text": [
            "[[1 2 1 3]\n",
            " [4 3 2 1]\n",
            " [2 1 1 3]\n",
            " [5 1 5 2]]\n",
            "[1 2 3 4 5]\n",
            "[1 2 3 4 5] [ 0  1  3  4 12] [6 4 3 1 2]\n",
            "[(1, 0, 6), (2, 1, 4), (3, 3, 3), (4, 4, 1), (5, 12, 2)]\n",
            "[[False False False False]\n",
            " [ True False False False]\n",
            " [False False False False]\n",
            " [ True False  True False]]\n"
          ]
        }
      ]
    }
  ]
}