{
  "nbformat": 4,
  "nbformat_minor": 0,
  "metadata": {
    "colab": {
      "name": "SVD.ipynb",
      "provenance": []
    },
    "kernelspec": {
      "name": "python3",
      "display_name": "Python 3"
    },
    "language_info": {
      "name": "python"
    }
  },
  "cells": [
    {
      "cell_type": "markdown",
      "metadata": {
        "id": "zz4B5-VdyJBE"
      },
      "source": [
        "Singular Value Decomposition"
      ]
    },
    {
      "cell_type": "code",
      "metadata": {
        "colab": {
          "base_uri": "https://localhost:8080/"
        },
        "id": "BYTLziZNyMEY",
        "outputId": "142702df-a345-4f61-bc84-a14f65fe0b73"
      },
      "source": [
        "#to mount the googledrive \n",
        "from google.colab import drive\n",
        "drive.mount('/content/Drive')"
      ],
      "execution_count": 2,
      "outputs": [
        {
          "output_type": "stream",
          "name": "stdout",
          "text": [
            "Mounted at /content/Drive\n"
          ]
        }
      ]
    },
    {
      "cell_type": "code",
      "metadata": {
        "id": "fIuJwaxbytCI"
      },
      "source": [
        "import numpy as np\n",
        "from numpy.linalg import * #linearalgebra"
      ],
      "execution_count": 3,
      "outputs": []
    },
    {
      "cell_type": "code",
      "metadata": {
        "id": "Ab-f5PZ_zAdM"
      },
      "source": [
        "\n",
        "A = np.array([[4,4],[-3,3]])\n",
        "X = A@A.T\n",
        "Y = A.T@A"
      ],
      "execution_count": 18,
      "outputs": []
    },
    {
      "cell_type": "code",
      "metadata": {
        "colab": {
          "base_uri": "https://localhost:8080/"
        },
        "id": "EZM8qd5J0VNF",
        "outputId": "9d05fdad-70bf-4af2-f3cd-1f41207c901b"
      },
      "source": [
        "eigVal,eigVal = eig(X)\n",
        "U = eigVec\n",
        "print(U)"
      ],
      "execution_count": 19,
      "outputs": [
        {
          "output_type": "stream",
          "name": "stdout",
          "text": [
            "[[ 0.70710678 -0.70710678]\n",
            " [ 0.70710678  0.70710678]]\n"
          ]
        }
      ]
    },
    {
      "cell_type": "code",
      "metadata": {
        "colab": {
          "base_uri": "https://localhost:8080/"
        },
        "id": "hEI0dGsP0hrw",
        "outputId": "deacc47a-0f49-4ae0-bc17-e6475e5ff1c1"
      },
      "source": [
        "eigVal,eigVec =eig(Y)\n",
        "V = eigVec\n",
        "print(V)"
      ],
      "execution_count": 13,
      "outputs": [
        {
          "output_type": "stream",
          "name": "stdout",
          "text": [
            "[[ 0.70710678 -0.70710678]\n",
            " [ 0.70710678  0.70710678]]\n"
          ]
        }
      ]
    },
    {
      "cell_type": "code",
      "metadata": {
        "colab": {
          "base_uri": "https://localhost:8080/"
        },
        "id": "7JDUTMzi0vbR",
        "outputId": "139aeeeb-5206-44b6-9bd9-7ddecc28bbde"
      },
      "source": [
        "#findingSigma\n",
        "\n",
        "sigma = np.diag(eigVal**0.5).round()\n",
        "print('Sigma',sigma)\n"
      ],
      "execution_count": 16,
      "outputs": [
        {
          "output_type": "stream",
          "name": "stdout",
          "text": [
            "Sigma [[6. 0.]\n",
            " [0. 4.]]\n",
            "[[5. 1.]\n",
            " [1. 5.]]\n"
          ]
        }
      ]
    },
    {
      "cell_type": "code",
      "metadata": {
        "colab": {
          "base_uri": "https://localhost:8080/"
        },
        "id": "QTK34BSO08TG",
        "outputId": "b3e56158-a689-4758-9d15-590e1785cdd1"
      },
      "source": [
        "B = U@sigma@V.T\n",
        "print(B)"
      ],
      "execution_count": 20,
      "outputs": [
        {
          "output_type": "stream",
          "name": "stdout",
          "text": [
            "[[5. 1.]\n",
            " [1. 5.]]\n"
          ]
        }
      ]
    }
  ]
}