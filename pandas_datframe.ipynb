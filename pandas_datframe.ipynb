{
  "nbformat": 4,
  "nbformat_minor": 5,
  "metadata": {
    "kernelspec": {
      "display_name": "Python 3",
      "language": "python",
      "name": "python3"
    },
    "language_info": {
      "codemirror_mode": {
        "name": "ipython",
        "version": 3
      },
      "file_extension": ".py",
      "mimetype": "text/x-python",
      "name": "python",
      "nbconvert_exporter": "python",
      "pygments_lexer": "ipython3",
      "version": "3.8.8"
    },
    "colab": {
      "name": "DC2020MCA0016_Dataframe.ipynb",
      "provenance": [],
      "collapsed_sections": []
    }
  },
  "cells": [
    {
      "cell_type": "code",
      "metadata": {
        "id": "46f4e421"
      },
      "source": [
        "1.Use python program a create a data-frame containing names and calssTest1 marks of 10 students.(Max marks 40) \n",
        "1.1 Add 5 more entries to the dataset.\n",
        "1.2 Print the details of the students getting maximum marks \n",
        "1.3 Print the name of the students who got marks between 20-30\n",
        "1.4 Sort the entries according to marks.\n",
        "1.5 Sort the entries according to name.\n",
        "1.6 Display the mean, median, mode and standard deviation of the marks.\n",
        "1.7 Delete the entry at position 7.\n",
        "1.8 Update the marks of the entries from 2-5  to [24.5, 12.5, 32, 21]\n",
        "1.9 Display the marks of the students who got more than 20.\n",
        "1.10 Display the marks of the students who git less than 10.\n",
        "1.11 Add another column named “classTest2” marks.\n",
        "1.12 Add another column named average which is the average of classTest1 and classTest2.\n",
        "1.13 Find the number of student who got average marks in the range:  A)0-10, B) 11-20, C) 21-30 and D) 31-40. Also plot a bar diagram to reflect these counts\n",
        "1.14 Swap the columns classTest1 and classTest2.\n",
        "1.15 Add another column named “Normalised Average” , where each entry is (average_marks- mean_average marks)/ std. deviation\n",
        "\n"
      ],
      "id": "46f4e421",
      "execution_count": null,
      "outputs": []
    },
    {
      "cell_type": "code",
      "metadata": {
        "id": "632d9c68"
      },
      "source": [
        "import pandas as pd\n",
        "import numpy as np\n",
        "import matplotlib.pyplot as plt"
      ],
      "id": "632d9c68",
      "execution_count": 13,
      "outputs": []
    },
    {
      "cell_type": "code",
      "metadata": {
        "id": "f59b454f",
        "outputId": "5d0d04f2-4b2b-49a1-9b49-f32574d441d3",
        "colab": {
          "base_uri": "https://localhost:8080/"
        }
      },
      "source": [
        "#1 creating a data frame\n",
        "#1.Use python program a create a data-frame containing names and calssTest1 marks of 10 students.(Max marks 40) \n",
        "\n",
        "d = {'Names':['B','A','D','C','E','F','G','H','I','J'],\n",
        "      'Class_Test1_marks':[10,30,40,9,15,25,35,18,8,21]}\n",
        "df = pd.DataFrame(d)\n",
        "print(df)"
      ],
      "id": "f59b454f",
      "execution_count": 14,
      "outputs": [
        {
          "output_type": "stream",
          "name": "stdout",
          "text": [
            "  Names  Class_Test1_marks\n",
            "0     B                 10\n",
            "1     A                 30\n",
            "2     D                 40\n",
            "3     C                  9\n",
            "4     E                 15\n",
            "5     F                 25\n",
            "6     G                 35\n",
            "7     H                 18\n",
            "8     I                  8\n",
            "9     J                 21\n"
          ]
        }
      ]
    },
    {
      "cell_type": "code",
      "metadata": {
        "id": "Uxz2kKxstnsC",
        "outputId": "ebbd226e-6086-42b6-873b-88f68b22fc8c",
        "colab": {
          "base_uri": "https://localhost:8080/",
          "height": 204
        }
      },
      "source": [
        "#practice 1\n",
        "import pandas as pd\n",
        "n = { 'Names':['Sidhart','S','E','D','U','I','N','P'],\n",
        "     'Marks':[12,13,14,15,10,11,12,11]\n",
        "     }\n",
        "df = pd.DataFrame(n)\n",
        "df.head()"
      ],
      "id": "Uxz2kKxstnsC",
      "execution_count": 4,
      "outputs": [
        {
          "output_type": "execute_result",
          "data": {
            "text/html": [
              "<div>\n",
              "<style scoped>\n",
              "    .dataframe tbody tr th:only-of-type {\n",
              "        vertical-align: middle;\n",
              "    }\n",
              "\n",
              "    .dataframe tbody tr th {\n",
              "        vertical-align: top;\n",
              "    }\n",
              "\n",
              "    .dataframe thead th {\n",
              "        text-align: right;\n",
              "    }\n",
              "</style>\n",
              "<table border=\"1\" class=\"dataframe\">\n",
              "  <thead>\n",
              "    <tr style=\"text-align: right;\">\n",
              "      <th></th>\n",
              "      <th>Names</th>\n",
              "      <th>Marks</th>\n",
              "    </tr>\n",
              "  </thead>\n",
              "  <tbody>\n",
              "    <tr>\n",
              "      <th>0</th>\n",
              "      <td>Sidhart</td>\n",
              "      <td>12</td>\n",
              "    </tr>\n",
              "    <tr>\n",
              "      <th>1</th>\n",
              "      <td>S</td>\n",
              "      <td>13</td>\n",
              "    </tr>\n",
              "    <tr>\n",
              "      <th>2</th>\n",
              "      <td>E</td>\n",
              "      <td>14</td>\n",
              "    </tr>\n",
              "    <tr>\n",
              "      <th>3</th>\n",
              "      <td>D</td>\n",
              "      <td>15</td>\n",
              "    </tr>\n",
              "    <tr>\n",
              "      <th>4</th>\n",
              "      <td>U</td>\n",
              "      <td>10</td>\n",
              "    </tr>\n",
              "  </tbody>\n",
              "</table>\n",
              "</div>"
            ],
            "text/plain": [
              "     Names  Marks\n",
              "0  Sidhart     12\n",
              "1        S     13\n",
              "2        E     14\n",
              "3        D     15\n",
              "4        U     10"
            ]
          },
          "metadata": {},
          "execution_count": 4
        }
      ]
    },
    {
      "cell_type": "code",
      "metadata": {
        "id": "a704527c",
        "outputId": "c7d0b712-e336-4650-ff5a-15de8d622279",
        "colab": {
          "base_uri": "https://localhost:8080/"
        }
      },
      "source": [
        "#1.1 Add 5 more entries to the dataset.\n",
        "\n",
        "e = {'Names':['K','L','M','N','O'],\n",
        "        'Marks':[30,12,31,10,38]}\n",
        "df2 = pd.DataFrame(e)\n",
        "print(df2)\n",
        "\n",
        "print(\"\\n\\nAfter adding five more data sets\\n\")\n",
        "df2 = pd.concat([df,df2],ignore_index=True)\n",
        "print(df2)\n"
      ],
      "id": "a704527c",
      "execution_count": 15,
      "outputs": [
        {
          "output_type": "stream",
          "name": "stdout",
          "text": [
            "  Names  Marks\n",
            "0     K     30\n",
            "1     L     12\n",
            "2     M     31\n",
            "3     N     10\n",
            "4     O     38\n",
            "\n",
            "\n",
            "After adding five more data sets\n",
            "\n",
            "   Names  Class_Test1_marks  Marks\n",
            "0      B               10.0    NaN\n",
            "1      A               30.0    NaN\n",
            "2      D               40.0    NaN\n",
            "3      C                9.0    NaN\n",
            "4      E               15.0    NaN\n",
            "5      F               25.0    NaN\n",
            "6      G               35.0    NaN\n",
            "7      H               18.0    NaN\n",
            "8      I                8.0    NaN\n",
            "9      J               21.0    NaN\n",
            "10     K                NaN   30.0\n",
            "11     L                NaN   12.0\n",
            "12     M                NaN   31.0\n",
            "13     N                NaN   10.0\n",
            "14     O                NaN   38.0\n"
          ]
        }
      ]
    },
    {
      "cell_type": "code",
      "metadata": {
        "scrolled": true,
        "id": "8e230743",
        "outputId": "3669be2c-2e8d-42c3-e67b-fae11ce8bde7",
        "colab": {
          "base_uri": "https://localhost:8080/"
        }
      },
      "source": [
        "#1.2 Print the details of the students getting maximum marks\n",
        "\n",
        "print(df2[(df2[\"Class_Test1_marks\"]==df2[\"Class_Test1_marks\"].max())])"
      ],
      "id": "8e230743",
      "execution_count": 16,
      "outputs": [
        {
          "output_type": "stream",
          "name": "stdout",
          "text": [
            "  Names  Class_Test1_marks  Marks\n",
            "2     D               40.0    NaN\n"
          ]
        }
      ]
    },
    {
      "cell_type": "code",
      "metadata": {
        "id": "494b7fb5",
        "outputId": "c4005c20-137f-40b3-bf1f-7a1adde1f4a9",
        "colab": {
          "base_uri": "https://localhost:8080/"
        }
      },
      "source": [
        "#1.3 Print the name of the students who got marks between 20-30\n",
        "\n",
        "b = df2[\"Class_Test1_marks\"].between(20,30)\n",
        "nm = (df2[b])\n",
        "print(nm['Names'])"
      ],
      "id": "494b7fb5",
      "execution_count": 19,
      "outputs": [
        {
          "output_type": "stream",
          "name": "stdout",
          "text": [
            "1    A\n",
            "5    F\n",
            "9    J\n",
            "Name: Names, dtype: object\n"
          ]
        }
      ]
    },
    {
      "cell_type": "code",
      "metadata": {
        "id": "80157b32",
        "outputId": "fe1f3425-e640-4908-f742-cea9b6aa399a"
      },
      "source": [
        "#1.4 Sort the entries according to marks.\n",
        "\n",
        "print(df2.sort_values(by=[\"Class_Test1_marks\"]))"
      ],
      "id": "80157b32",
      "execution_count": null,
      "outputs": [
        {
          "name": "stdout",
          "output_type": "stream",
          "text": [
            "   Names  Class_Test1_marks\n",
            "8      I                  8\n",
            "3      C                  9\n",
            "0      B                 10\n",
            "13     N                 10\n",
            "11     L                 12\n",
            "4      E                 15\n",
            "7      H                 18\n",
            "9      J                 21\n",
            "5      F                 25\n",
            "1      A                 30\n",
            "10     K                 30\n",
            "12     M                 31\n",
            "6      G                 35\n",
            "14     O                 38\n",
            "2      D                 40\n"
          ]
        }
      ]
    },
    {
      "cell_type": "code",
      "metadata": {
        "id": "1bed3fb2",
        "outputId": "b5a602b0-7ee6-46d8-bbf2-57b188e49b15"
      },
      "source": [
        "#1.5 Sort the entries according to name.\n",
        "\n",
        "print(df2.sort_values(by=[\"Names\"]))"
      ],
      "id": "1bed3fb2",
      "execution_count": null,
      "outputs": [
        {
          "name": "stdout",
          "output_type": "stream",
          "text": [
            "   Names  Class_Test1_marks\n",
            "1      A                 30\n",
            "0      B                 10\n",
            "3      C                  9\n",
            "2      D                 40\n",
            "4      E                 15\n",
            "5      F                 25\n",
            "6      G                 35\n",
            "7      H                 18\n",
            "8      I                  8\n",
            "9      J                 21\n",
            "10     K                 30\n",
            "11     L                 12\n",
            "12     M                 31\n",
            "13     N                 10\n",
            "14     O                 38\n"
          ]
        }
      ]
    },
    {
      "cell_type": "code",
      "metadata": {
        "id": "c7bf57f3",
        "outputId": "86f2f57d-5096-499f-8f00-1512d6c5cad5"
      },
      "source": [
        "#1.6 Display the mean, median, mode and standard deviation of the marks.\n",
        "\n",
        "print(\"Mean: \",df2.Class_Test1_marks.mean())\n",
        "print(\"median: \",df2.Class_Test1_marks.median())\n",
        "print(\"mode: \",df2.Class_Test1_marks.mode())\n",
        "print(\"standard deviation: \",df2.Class_Test1_marks.std())"
      ],
      "id": "c7bf57f3",
      "execution_count": null,
      "outputs": [
        {
          "name": "stdout",
          "output_type": "stream",
          "text": [
            "Mean:  22.133333333333333\n",
            "median:  21.0\n",
            "mode:  0    10\n",
            "1    30\n",
            "dtype: int64\n",
            "standard deviation:  11.29390902001521\n"
          ]
        }
      ]
    },
    {
      "cell_type": "code",
      "metadata": {
        "id": "c9263d92",
        "outputId": "392dac37-98de-4eb5-c69b-1ddcf859a0c2"
      },
      "source": [
        "#1.7 Delete the entry at position 7.\n",
        "\n",
        "print(\"original Data:\\n\\n\",df2)\n",
        "print(\"\\n\\nAfter removing 7 position \\n\\n\",df2.drop(index=7))"
      ],
      "id": "c9263d92",
      "execution_count": null,
      "outputs": [
        {
          "name": "stdout",
          "output_type": "stream",
          "text": [
            "original Data:\n",
            "\n",
            "    Names  Class_Test1_marks\n",
            "0      B                 10\n",
            "1      A                 30\n",
            "2      D                 40\n",
            "3      C                  9\n",
            "4      E                 15\n",
            "5      F                 25\n",
            "6      G                 35\n",
            "7      H                 18\n",
            "8      I                  8\n",
            "9      J                 21\n",
            "10     K                 30\n",
            "11     L                 12\n",
            "12     M                 31\n",
            "13     N                 10\n",
            "14     O                 38\n",
            "\n",
            "\n",
            "After removing 7 position \n",
            "\n",
            "    Names  Class_Test1_marks\n",
            "0      B                 10\n",
            "1      A                 30\n",
            "2      D                 40\n",
            "3      C                  9\n",
            "4      E                 15\n",
            "5      F                 25\n",
            "6      G                 35\n",
            "8      I                  8\n",
            "9      J                 21\n",
            "10     K                 30\n",
            "11     L                 12\n",
            "12     M                 31\n",
            "13     N                 10\n",
            "14     O                 38\n"
          ]
        }
      ]
    },
    {
      "cell_type": "code",
      "metadata": {
        "id": "45b8b01b",
        "outputId": "bb2b7f68-5a52-475c-affa-b22242f5277e"
      },
      "source": [
        "#1.8 Update the marks of the entries from 2-5 to [24.5, 12.5, 32, 21]\n",
        "\n",
        "df2.loc[2:5,'Class_Test1_marks'] = [24.5, 12.5, 32, 21]\n",
        "print(df2)"
      ],
      "id": "45b8b01b",
      "execution_count": null,
      "outputs": [
        {
          "name": "stdout",
          "output_type": "stream",
          "text": [
            "   Names  Class_Test1_marks\n",
            "0      B               10.0\n",
            "1      A               30.0\n",
            "2      D               24.5\n",
            "3      C               12.5\n",
            "4      E               32.0\n",
            "5      F               21.0\n",
            "6      G               35.0\n",
            "7      H               18.0\n",
            "8      I                8.0\n",
            "9      J               21.0\n",
            "10     K               30.0\n",
            "11     L               12.0\n",
            "12     M               31.0\n",
            "13     N               10.0\n",
            "14     O               38.0\n"
          ]
        }
      ]
    },
    {
      "cell_type": "code",
      "metadata": {
        "id": "dbbc6dc4",
        "outputId": "bf5216a9-0eee-4dc0-b8e5-53b2704ff481"
      },
      "source": [
        "#1.9 Display the marks of the students who got more than 20.\n",
        "\n",
        "print(df2[(df2[\"Class_Test1_marks\"])>20])"
      ],
      "id": "dbbc6dc4",
      "execution_count": null,
      "outputs": [
        {
          "name": "stdout",
          "output_type": "stream",
          "text": [
            "   Names  Class_Test1_marks\n",
            "1      A               30.0\n",
            "2      D               24.5\n",
            "4      E               32.0\n",
            "5      F               21.0\n",
            "6      G               35.0\n",
            "9      J               21.0\n",
            "10     K               30.0\n",
            "12     M               31.0\n",
            "14     O               38.0\n"
          ]
        }
      ]
    },
    {
      "cell_type": "code",
      "metadata": {
        "id": "05b529a0",
        "outputId": "fcb66838-5d3a-4962-fb2e-5240bd8a5c1d"
      },
      "source": [
        "#1.10 Display the marks of the students who got less than 10.\n",
        "\n",
        "print(df2[(df2[\"Class_Test1_marks\"])<10])"
      ],
      "id": "05b529a0",
      "execution_count": null,
      "outputs": [
        {
          "name": "stdout",
          "output_type": "stream",
          "text": [
            "  Names  Class_Test1_marks\n",
            "8     I                8.0\n"
          ]
        }
      ]
    },
    {
      "cell_type": "code",
      "metadata": {
        "id": "537fce3a",
        "outputId": "06641f3f-298b-45fc-f76a-b10c56e5ed88"
      },
      "source": [
        "#1.11 Add another column named “classTest2” marks.\n",
        "\n",
        "df2[\"Class_Test2_marks\"] = [20,14,30,32,21,17,19,40,36,28,27,11,23,15,16]\n",
        "print(df2)"
      ],
      "id": "537fce3a",
      "execution_count": null,
      "outputs": [
        {
          "name": "stdout",
          "output_type": "stream",
          "text": [
            "   Names  Class_Test1_marks  Class_Test2_marks\n",
            "0      B               10.0                 20\n",
            "1      A               30.0                 14\n",
            "2      D               24.5                 30\n",
            "3      C               12.5                 32\n",
            "4      E               32.0                 21\n",
            "5      F               21.0                 17\n",
            "6      G               35.0                 19\n",
            "7      H               18.0                 40\n",
            "8      I                8.0                 36\n",
            "9      J               21.0                 28\n",
            "10     K               30.0                 27\n",
            "11     L               12.0                 11\n",
            "12     M               31.0                 23\n",
            "13     N               10.0                 15\n",
            "14     O               38.0                 16\n"
          ]
        }
      ]
    },
    {
      "cell_type": "code",
      "metadata": {
        "id": "a8da34c5",
        "outputId": "4ad472cb-d5ce-4342-c00c-6de101ffe8a5"
      },
      "source": [
        "#1.12 Add another column named average which is the average of classTest1 and classTest2.\n",
        "\n",
        "df2['Average'] = (df2['Class_Test1_marks']+ df2['Class_Test2_marks'])/2\n",
        "print(df2)"
      ],
      "id": "a8da34c5",
      "execution_count": null,
      "outputs": [
        {
          "name": "stdout",
          "output_type": "stream",
          "text": [
            "   Names  Class_Test1_marks  Class_Test2_marks  Average\n",
            "0      B               10.0                 20    15.00\n",
            "1      A               30.0                 14    22.00\n",
            "2      D               24.5                 30    27.25\n",
            "3      C               12.5                 32    22.25\n",
            "4      E               32.0                 21    26.50\n",
            "5      F               21.0                 17    19.00\n",
            "6      G               35.0                 19    27.00\n",
            "7      H               18.0                 40    29.00\n",
            "8      I                8.0                 36    22.00\n",
            "9      J               21.0                 28    24.50\n",
            "10     K               30.0                 27    28.50\n",
            "11     L               12.0                 11    11.50\n",
            "12     M               31.0                 23    27.00\n",
            "13     N               10.0                 15    12.50\n",
            "14     O               38.0                 16    27.00\n"
          ]
        }
      ]
    },
    {
      "cell_type": "code",
      "metadata": {
        "id": "072934c8",
        "outputId": "315a9c18-ac66-479f-8b76-bfd74b150688"
      },
      "source": [
        "#1.13 Find the number of student who got average marks in the range: A)0-10, B) 11-20, C) 21-30 and \n",
        "#D) 31-40. Also plot a bar diagram to reflect these counts\n",
        "\n",
        "count = [\n",
        "    len(df2[( df2[\"Average\"] >= 0) & ( df2[\"Average\"] <= 10 )]),\n",
        "    len(df2[( df2[\"Average\"] > 10) & ( df2[\"Average\"] <= 20 )]),\n",
        "    len(df2[( df2[\"Average\"] > 20) & ( df2[\"Average\"] <= 30 )]),\n",
        "    len(df2[( df2[\"Average\"] > 30) & ( df2[\"Average\"] <= 40 )])\n",
        "]\n",
        "print('Number of students with Average marks in range:')\n",
        "print(f'A) 0-10: { count[0] } ')\n",
        "print(f'B) 11-20: { count[1] }')\n",
        "print(f'C) 21-30: { count[2] }')\n",
        "print(f'D) 31-40: { count[3] }')\n",
        "\n",
        "ranges = ['0-10', '11-20', '21-30', '31-40']\n",
        "\n",
        "plt.bar(ranges, count)\n",
        "plt.xlabel('Number of students with Average marks in range')\n",
        "plt.ylabel('Count')\n",
        "plt.show()"
      ],
      "id": "072934c8",
      "execution_count": null,
      "outputs": [
        {
          "name": "stdout",
          "output_type": "stream",
          "text": [
            "Number of students with Average marks in range:\n",
            "A) 0-10: 0 \n",
            "B) 11-20: 4\n",
            "C) 21-30: 11\n",
            "D) 31-40: 0\n"
          ]
        },
        {
          "data": {
            "image/png": "[encoded data removed]",
            "text/plain": [
              "<Figure size 432x288 with 1 Axes>"
            ]
          },
          "metadata": {
            "needs_background": "light"
          },
          "output_type": "display_data"
        }
      ]
    },
    {
      "cell_type": "code",
      "metadata": {
        "id": "dd6d55b4",
        "outputId": "d1e292ef-0fbb-436b-a2bf-078938c3f2a9"
      },
      "source": [
        "#1.14 Swap the columns classTest1 and classTest2.\n",
        "\n",
        "df = pd.DataFrame(df2, columns=['Names', 'Class_Test2_marks', 'Class_Test1_marks', 'Average'])\n",
        "print(df2)"
      ],
      "id": "dd6d55b4",
      "execution_count": null,
      "outputs": [
        {
          "name": "stdout",
          "output_type": "stream",
          "text": [
            "   Names  Class_Test1_marks  Class_Test2_marks  Average\n",
            "0      B               10.0                 20    15.00\n",
            "1      A               30.0                 14    22.00\n",
            "2      D               24.5                 30    27.25\n",
            "3      C               12.5                 32    22.25\n",
            "4      E               32.0                 21    26.50\n",
            "5      F               21.0                 17    19.00\n",
            "6      G               35.0                 19    27.00\n",
            "7      H               18.0                 40    29.00\n",
            "8      I                8.0                 36    22.00\n",
            "9      J               21.0                 28    24.50\n",
            "10     K               30.0                 27    28.50\n",
            "11     L               12.0                 11    11.50\n",
            "12     M               31.0                 23    27.00\n",
            "13     N               10.0                 15    12.50\n",
            "14     O               38.0                 16    27.00\n"
          ]
        }
      ]
    },
    {
      "cell_type": "code",
      "metadata": {
        "id": "1adcdcef",
        "outputId": "707a096c-127f-48b3-c5db-1f036ea71564"
      },
      "source": [
        "#1.15 Add another column named “Normalised Average” , where each entry is (average_marks-\n",
        "# mean_average marks)/ std. deviation\n",
        "\n",
        "mean = df2['Average'].mean()\n",
        "std = df2['Average'].std()\n",
        "df['Norm_Avg'] = (df['Average'] - mean)/std\n",
        "print(df)"
      ],
      "id": "1adcdcef",
      "execution_count": null,
      "outputs": [
        {
          "name": "stdout",
          "output_type": "stream",
          "text": [
            "   Names  Class_Test2_marks  Class_Test1_marks  Average  Norm_Avg\n",
            "0      B                 20               10.0    15.00 -1.333548\n",
            "1      A                 14               30.0    22.00 -0.126457\n",
            "2      D                 30               24.5    27.25  0.778861\n",
            "3      C                 32               12.5    22.25 -0.083347\n",
            "4      E                 21               32.0    26.50  0.649530\n",
            "5      F                 17               21.0    19.00 -0.643782\n",
            "6      G                 19               35.0    27.00  0.735751\n",
            "7      H                 40               18.0    29.00  1.080634\n",
            "8      I                 36                8.0    22.00 -0.126457\n",
            "9      J                 28               21.0    24.50  0.304647\n",
            "10     K                 27               30.0    28.50  0.994413\n",
            "11     L                 11               12.0    11.50 -1.937094\n",
            "12     M                 23               31.0    27.00  0.735751\n",
            "13     N                 15               10.0    12.50 -1.764652\n",
            "14     O                 16               38.0    27.00  0.735751\n"
          ]
        }
      ]
    }
  ]
}