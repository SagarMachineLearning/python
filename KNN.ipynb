{
  "nbformat": 4,
  "nbformat_minor": 0,
  "metadata": {
    "colab": {
      "name": "KNN.ipynb",
      "provenance": [],
      "collapsed_sections": []
    },
    "kernelspec": {
      "name": "python3",
      "display_name": "Python 3"
    },
    "language_info": {
      "name": "python"
    }
  },
  "cells": [
    {
      "cell_type": "code",
      "metadata": {
        "colab": {
          "base_uri": "https://localhost:8080/",
          "height": 422
        },
        "id": "Z0XE0qLxF7gp",
        "outputId": "a7037c69-5c1f-4e85-e742-feb7475d215b"
      },
      "source": [
        "import seaborn as sns\n",
        "import pandas as pd\n",
        "import matplotlib.pyplot as plt\n",
        "from sklearn.model_selection import train_test_split\n",
        "from sklearn.preprocessing import StandardScaler\n",
        "#reading the dataset\n",
        "iris = pd.read_csv(\"/content/iris.csv\")\n",
        "#dataset visualization\n",
        "sns.FacetGrid(iris,hue='class',size=5).map(plt.scatter,'sepallength','sepalwidth').add_legend()\n",
        "#preparing the trainning and testing dataset\n",
        "X=iris.iloc[:,1:5]\n",
        "y=iris['class']\n",
        "sc = StandardScaler()\n",
        "#scalling the dataset\n",
        "X = sc.fit_transform(X)\n",
        "#splitting the dataset into training and testing\n",
        "X_train, X_test, y_train, y_test = train_test_split(X, y, test_size = 0.2)\n",
        "\n"
      ],
      "execution_count": null,
      "outputs": [
        {
          "output_type": "stream",
          "name": "stderr",
          "text": [
            "/usr/local/lib/python3.7/dist-packages/seaborn/axisgrid.py:337: UserWarning: The `size` parameter has been renamed to `height`; please update your code.\n",
            "  warnings.warn(msg, UserWarning)\n"
          ]
        },
        {
          "output_type": "display_data",
          "data": {
            "image/png": "[encoded data removed]",
            "text/plain": [
              "<Figure size 463.25x360 with 1 Axes>"
            ]
          },
          "metadata": {
            "needs_background": "light"
          }
        }
      ]
    },
    {
      "cell_type": "code",
      "metadata": {
        "id": "NgTpLN-0QR8m"
      },
      "source": [
        "from sklearn.neighbors import KNeighborsClassifier\n",
        "#Create KNN Classifier\n",
        "knn = KNeighborsClassifier(n_neighbors=5)\n",
        "#Train the model using the training sets\n",
        "knn.fit(X_train, y_train)\n",
        "#Predict the response for test dataset\n",
        "y_pred = knn.predict(X_test)\n"
      ],
      "execution_count": null,
      "outputs": []
    },
    {
      "cell_type": "code",
      "metadata": {
        "colab": {
          "base_uri": "https://localhost:8080/",
          "height": 517
        },
        "id": "bY_nFL5sMg_7",
        "outputId": "36f04e7a-cfa7-490f-eb61-59afc5271ce5"
      },
      "source": [
        "from sklearn.metrics import confusion_matrix\n",
        "from sklearn.metrics import accuracy_score \n",
        "from sklearn.metrics import classification_report\n",
        "#confusion matrix\n",
        "cm = confusion_matrix(y_test, y_pred)\n",
        "print(cm)\n",
        "sns.heatmap(cm, annot=True)\n",
        "#printing the accuracy\n",
        "acc=accuracy_score(y_test, y_pred)\n",
        "print (\"Accuracy : \",acc )\n",
        "#printing the classification report\n",
        "target_names=y.unique()\n",
        "print(target_names)\n",
        "report=classification_report(y_test, y_pred, target_names=target_names)\n",
        "print(report)\n"
      ],
      "execution_count": null,
      "outputs": [
        {
          "output_type": "stream",
          "name": "stdout",
          "text": [
            "Accuracy :  1.0\n",
            "[[13  0  0]\n",
            " [ 0  5  0]\n",
            " [ 0  0 12]]\n",
            "['Iris-setosa' 'Iris-versicolor' 'Iris-virginica']\n",
            "                 precision    recall  f1-score   support\n",
            "\n",
            "    Iris-setosa       1.00      1.00      1.00        13\n",
            "Iris-versicolor       1.00      1.00      1.00         5\n",
            " Iris-virginica       1.00      1.00      1.00        12\n",
            "\n",
            "       accuracy                           1.00        30\n",
            "      macro avg       1.00      1.00      1.00        30\n",
            "   weighted avg       1.00      1.00      1.00        30\n",
            "\n"
          ]
        },
        {
          "output_type": "display_data",
          "data": {
            "image/png": "[encoded data removed]",
            "text/plain": [
              "<Figure size 432x288 with 2 Axes>"
            ]
          },
          "metadata": {
            "needs_background": "light"
          }
        }
      ]
    }
  ]
}