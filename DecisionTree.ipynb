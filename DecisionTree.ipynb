{
  "nbformat": 4,
  "nbformat_minor": 0,
  "metadata": {
    "colab": {
      "name": "DecisionTree.ipynb",
      "provenance": [],
      "collapsed_sections": []
    },
    "kernelspec": {
      "name": "python3",
      "display_name": "Python 3"
    },
    "language_info": {
      "name": "python"
    }
  },
  "cells": [
    {
      "cell_type": "code",
      "metadata": {
        "colab": {
          "base_uri": "https://localhost:8080/",
          "height": 658
        },
        "id": "Z0XE0qLxF7gp",
        "outputId": "56c90aee-a0bd-40c9-a295-44b00f3dd446"
      },
      "source": [
        "#dataset preprocessing\n",
        "import seaborn as sns\n",
        "import pandas as pd\n",
        "import matplotlib.pyplot as plt\n",
        "from sklearn.model_selection import train_test_split\n",
        "from sklearn.preprocessing import StandardScaler\n",
        "#reading the dataset\n",
        "iris = pd.read_csv(\"/content/iris.csv\")\n",
        "print(iris)\n",
        "#dataset visualization\n",
        "sns.FacetGrid(iris,hue='class',size=5).map(plt.scatter,'sepallength','sepalwidth').add_legend()\n",
        "#preparing the trainning and testing dataset\n",
        "X=iris.iloc[:,1:5]\n",
        "y=iris['class']\n",
        "sc = StandardScaler()\n",
        "#scalling the dataset\n",
        "X = sc.fit_transform(X)\n",
        "#splitting the dataset into training and testing\n",
        "X_train, X_test, y_train, y_test = train_test_split(X, y, test_size = 0.2)\n",
        "\n"
      ],
      "execution_count": 9,
      "outputs": [
        {
          "output_type": "stream",
          "name": "stdout",
          "text": [
            "     Index  sepallength  sepalwidth  petallength  petalwidth           class\n",
            "0        0          5.1         3.5          1.4         0.2     Iris-setosa\n",
            "1        1          4.9         3.0          1.4         0.2     Iris-setosa\n",
            "2        2          4.7         3.2          1.3         0.2     Iris-setosa\n",
            "3        3          4.6         3.1          1.5         0.2     Iris-setosa\n",
            "4        4          5.0         3.6          1.4         0.2     Iris-setosa\n",
            "..     ...          ...         ...          ...         ...             ...\n",
            "145    145          6.7         3.0          5.2         2.3  Iris-virginica\n",
            "146    146          6.3         2.5          5.0         1.9  Iris-virginica\n",
            "147    147          6.5         3.0          5.2         2.0  Iris-virginica\n",
            "148    148          6.2         3.4          5.4         2.3  Iris-virginica\n",
            "149    149          5.9         3.0          5.1         1.8  Iris-virginica\n",
            "\n",
            "[150 rows x 6 columns]\n"
          ]
        },
        {
          "output_type": "stream",
          "name": "stderr",
          "text": [
            "/usr/local/lib/python3.7/dist-packages/seaborn/axisgrid.py:337: UserWarning: The `size` parameter has been renamed to `height`; please update your code.\n",
            "  warnings.warn(msg, UserWarning)\n"
          ]
        },
        {
          "output_type": "display_data",
          "data": {
            "image/png": "[encoded data removed]",
            "text/plain": [
              "<Figure size 463.25x360 with 1 Axes>"
            ]
          },
          "metadata": {
            "needs_background": "light"
          }
        }
      ]
    },
    {
      "cell_type": "code",
      "metadata": {
        "id": "NgTpLN-0QR8m"
      },
      "source": [
        "#Training and testing the model\n",
        "from sklearn.tree import DecisionTreeClassifier \n",
        "# Create Decision Tree classifer object\n",
        "model = DecisionTreeClassifier()\n",
        "\n",
        "# Train Decision Tree Classifer\n",
        "model.fit(X_train,y_train)\n",
        "\n",
        "#Predict the response for test dataset\n",
        "y_pred = model.predict(X_test)\n"
      ],
      "execution_count": 5,
      "outputs": []
    },
    {
      "cell_type": "markdown",
      "metadata": {
        "id": "SIZmazCcl-Vj"
      },
      "source": [
        ""
      ]
    },
    {
      "cell_type": "code",
      "metadata": {
        "colab": {
          "base_uri": "https://localhost:8080/",
          "height": 517
        },
        "id": "bY_nFL5sMg_7",
        "outputId": "3cbcc7d4-408b-4ad3-fe46-0dbb6768e12c"
      },
      "source": [
        "#performance evaluation\n",
        "from sklearn.metrics import confusion_matrix\n",
        "from sklearn.metrics import accuracy_score \n",
        "from sklearn.metrics import classification_report\n",
        "#confusion matrix\n",
        "cm = confusion_matrix(y_test, y_pred)\n",
        "print(cm)\n",
        "sns.heatmap(cm, annot=True)\n",
        "#printing the accuracy\n",
        "acc=accuracy_score(y_test, y_pred)\n",
        "print (\"Accuracy : \",acc )\n",
        "#printing the classification report\n",
        "target_names=y.unique()\n",
        "print(target_names)\n",
        "report=classification_report(y_test, y_pred, target_names=target_names)\n",
        "print(report)\n"
      ],
      "execution_count": 7,
      "outputs": [
        {
          "output_type": "stream",
          "name": "stdout",
          "text": [
            "[[10  0  0]\n",
            " [ 0 11  1]\n",
            " [ 0  1  7]]\n",
            "Accuracy :  0.9333333333333333\n",
            "['Iris-setosa' 'Iris-versicolor' 'Iris-virginica']\n",
            "                 precision    recall  f1-score   support\n",
            "\n",
            "    Iris-setosa       1.00      1.00      1.00        10\n",
            "Iris-versicolor       0.92      0.92      0.92        12\n",
            " Iris-virginica       0.88      0.88      0.88         8\n",
            "\n",
            "       accuracy                           0.93        30\n",
            "      macro avg       0.93      0.93      0.93        30\n",
            "   weighted avg       0.93      0.93      0.93        30\n",
            "\n"
          ]
        },
        {
          "output_type": "display_data",
          "data": {
            "image/png": "[encoded data removed]",
            "text/plain": [
              "<Figure size 432x288 with 2 Axes>"
            ]
          },
          "metadata": {
            "needs_background": "light"
          }
        }
      ]
    }
  ]
}