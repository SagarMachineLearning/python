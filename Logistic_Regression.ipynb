{
  "nbformat": 4,
  "nbformat_minor": 0,
  "metadata": {
    "colab": {
      "name": "Logistic Regression.ipynb",
      "provenance": [],
      "collapsed_sections": []
    },
    "kernelspec": {
      "name": "python3",
      "display_name": "Python 3"
    },
    "language_info": {
      "name": "python"
    }
  },
  "cells": [
    {
      "cell_type": "code",
      "metadata": {
        "id": "Z0XE0qLxF7gp"
      },
      "source": [
        "#dataset preprocessing\n",
        "import seaborn as sns\n",
        "import pandas as pd\n",
        "import matplotlib.pyplot as plt\n",
        "from sklearn.model_selection import train_test_split\n",
        "from sklearn.preprocessing import StandardScaler\n",
        "from sklearn.metrics import confusion_matrix\n",
        "from sklearn.metrics import accuracy_score \n",
        "from sklearn.metrics import classification_report\n",
        "from sklearn.metrics import plot_roc_curve\n",
        "#dataset Preparation\n",
        "def datasetPrep(path):\n",
        "  df = pd.read_csv(path)\n",
        "  #print(df)\n",
        "  #dataset visualization\n",
        "  Features=df.columns \n",
        "  print(Features)\n",
        "  sns.FacetGrid(df,hue=Features[-1],size=5).map(plt.scatter,Features[1],Features[2]).add_legend()\n",
        "  #preparing the trainning and testing dataset\n",
        "  X=df.iloc[:,0:-1]\n",
        "  y=df.iloc[:,-1]\n",
        "  target_names=y.unique()\n",
        "  target_names=list(map(str,target_names))\n",
        "  print(target_names)\n",
        "  sc = StandardScaler()\n",
        "  #scalling the dataset\n",
        "  X = sc.fit_transform(X)\n",
        "  #splitting the dataset into training and testing\n",
        "  X_train, X_test, y_train, y_test = train_test_split(X, y, test_size = 0.2)\n",
        "  return X_train, X_test, y_train, y_test, target_names\n",
        "def evaluation(y_pred, y_test,target_names):\n",
        "  #confusion matrix\n",
        "  cm = confusion_matrix(y_test, y_pred)\n",
        "  print(cm)\n",
        "  sns.heatmap(cm, annot=True)\n",
        "  #printing the accuracy\n",
        "  acc=accuracy_score(y_test, y_pred)\n",
        "  print (\"Accuracy : \",acc )\n",
        "  #printing the classification report\n",
        "\n",
        "  print(target_names)\n",
        "  report=classification_report(y_test, y_pred, target_names=target_names)\n",
        "  print(report)\n"
      ],
      "execution_count": 43,
      "outputs": []
    },
    {
      "cell_type": "code",
      "metadata": {
        "id": "NgTpLN-0QR8m",
        "colab": {
          "base_uri": "https://localhost:8080/",
          "height": 1000
        },
        "outputId": "90f9273e-9543-4fa3-e1f9-e731704fe1a0"
      },
      "source": [
        "#Logistic Regression\n",
        "path=\"/content/germany.csv\"\n",
        "X_train, X_test, y_train, y_test,target_names=datasetPrep(path)\n",
        "#Training and testing the model\n",
        "from sklearn.linear_model import LogisticRegression\n",
        "# Create Decision Tree classifer object\n",
        "model =LogisticRegression()\n",
        "# Train Decision Tree Classifer\n",
        "model.fit(X_train,y_train)\n",
        "#Predict the response for test dataset\n",
        "y_pred = model.predict(X_test)\n",
        "evaluation(y_pred, y_test,target_names)\n",
        "plot_roc_curve(model, X_train,y_train )"
      ],
      "execution_count": 44,
      "outputs": [
        {
          "output_type": "stream",
          "name": "stdout",
          "text": [
            "Index(['Pregnancies', 'Glucose', 'BloodPressure', 'SkinThickness', 'Insulin',\n",
            "       'BMI', 'DiabetesPedigreeFunction', 'Age', 'Outcome'],\n",
            "      dtype='object')\n"
          ]
        },
        {
          "output_type": "stream",
          "name": "stderr",
          "text": [
            "/usr/local/lib/python3.7/dist-packages/seaborn/axisgrid.py:337: UserWarning: The `size` parameter has been renamed to `height`; please update your code.\n",
            "  warnings.warn(msg, UserWarning)\n"
          ]
        },
        {
          "output_type": "stream",
          "name": "stdout",
          "text": [
            "['0', '1']\n",
            "[[257   0]\n",
            " [143   0]]\n",
            "Accuracy :  0.6425\n",
            "['0', '1']\n",
            "              precision    recall  f1-score   support\n",
            "\n",
            "           0       0.64      1.00      0.78       257\n",
            "           1       0.00      0.00      0.00       143\n",
            "\n",
            "    accuracy                           0.64       400\n",
            "   macro avg       0.32      0.50      0.39       400\n",
            "weighted avg       0.41      0.64      0.50       400\n",
            "\n"
          ]
        },
        {
          "output_type": "stream",
          "name": "stderr",
          "text": [
            "/usr/local/lib/python3.7/dist-packages/sklearn/metrics/_classification.py:1308: UndefinedMetricWarning: Precision and F-score are ill-defined and being set to 0.0 in labels with no predicted samples. Use `zero_division` parameter to control this behavior.\n",
            "  _warn_prf(average, modifier, msg_start, len(result))\n",
            "/usr/local/lib/python3.7/dist-packages/sklearn/metrics/_classification.py:1308: UndefinedMetricWarning: Precision and F-score are ill-defined and being set to 0.0 in labels with no predicted samples. Use `zero_division` parameter to control this behavior.\n",
            "  _warn_prf(average, modifier, msg_start, len(result))\n",
            "/usr/local/lib/python3.7/dist-packages/sklearn/metrics/_classification.py:1308: UndefinedMetricWarning: Precision and F-score are ill-defined and being set to 0.0 in labels with no predicted samples. Use `zero_division` parameter to control this behavior.\n",
            "  _warn_prf(average, modifier, msg_start, len(result))\n",
            "/usr/local/lib/python3.7/dist-packages/sklearn/utils/deprecation.py:87: FutureWarning: Function plot_roc_curve is deprecated; Function `plot_roc_curve` is deprecated in 1.0 and will be removed in 1.2. Use one of the class methods: RocCurveDisplay.from_predictions or RocCurveDisplay.from_estimator.\n",
            "  warnings.warn(msg, category=FutureWarning)\n"
          ]
        },
        {
          "output_type": "execute_result",
          "data": {
            "text/plain": [
              "<sklearn.metrics._plot.roc_curve.RocCurveDisplay at 0x7f48143bbc50>"
            ]
          },
          "metadata": {},
          "execution_count": 44
        },
        {
          "output_type": "display_data",
          "data": {
            "image/png": "[encoded data removed]",
            "text/plain": [
              "<Figure size 413.25x360 with 2 Axes>"
            ]
          },
          "metadata": {
            "needs_background": "light"
          }
        },
        {
          "output_type": "display_data",
          "data": {
            "image/png": "[encoded data removed]",
            "text/plain": [
              "<Figure size 432x288 with 1 Axes>"
            ]
          },
          "metadata": {
            "needs_background": "light"
          }
        }
      ]
    },
    {
      "cell_type": "code",
      "metadata": {
        "colab": {
          "base_uri": "https://localhost:8080/",
          "height": 731
        },
        "id": "bxIHuD0-FAVb",
        "outputId": "e730fa4f-5df0-4999-de61-3dcbf88a76aa"
      },
      "source": [
        "#Multinomial Logistic Regression\n",
        "path=\"/content/iris.csv\"\n",
        "X_train, X_test, y_train, y_test, target_names=datasetPrep(path)\n",
        "#Training and testing the model\n",
        "from sklearn.linear_model import LogisticRegression\n",
        "# Create Decision Tree classifer object\n",
        "model = LogisticRegression(multi_class='multinomial', solver='lbfgs')\n",
        "# Train Decision Tree Classifer\n",
        "model.fit(X_train,y_train)\n",
        "#Predict the response for test dataset\n",
        "y_pred = model.predict(X_test)\n",
        "evaluation(y_pred, y_test, target_names)"
      ],
      "execution_count": 41,
      "outputs": [
        {
          "output_type": "stream",
          "name": "stdout",
          "text": [
            "Index(['Index', 'sepallength', 'sepalwidth', 'petallength', 'petalwidth',\n",
            "       'class'],\n",
            "      dtype='object')\n"
          ]
        },
        {
          "output_type": "stream",
          "name": "stderr",
          "text": [
            "/usr/local/lib/python3.7/dist-packages/seaborn/axisgrid.py:337: UserWarning: The `size` parameter has been renamed to `height`; please update your code.\n",
            "  warnings.warn(msg, UserWarning)\n"
          ]
        },
        {
          "output_type": "stream",
          "name": "stdout",
          "text": [
            "['Iris-setosa', 'Iris-versicolor', 'Iris-virginica']\n",
            "[[12  0  0]\n",
            " [ 0 14  0]\n",
            " [ 0  0  4]]\n",
            "Accuracy :  1.0\n",
            "['Iris-setosa', 'Iris-versicolor', 'Iris-virginica']\n",
            "                 precision    recall  f1-score   support\n",
            "\n",
            "    Iris-setosa       1.00      1.00      1.00        12\n",
            "Iris-versicolor       1.00      1.00      1.00        14\n",
            " Iris-virginica       1.00      1.00      1.00         4\n",
            "\n",
            "       accuracy                           1.00        30\n",
            "      macro avg       1.00      1.00      1.00        30\n",
            "   weighted avg       1.00      1.00      1.00        30\n",
            "\n"
          ]
        },
        {
          "output_type": "display_data",
          "data": {
            "image/png": "[encoded data removed]",
            "text/plain": [
              "<Figure size 463.25x360 with 2 Axes>"
            ]
          },
          "metadata": {
            "needs_background": "light"
          }
        }
      ]
    },
    {
      "cell_type": "markdown",
      "metadata": {
        "id": "SIZmazCcl-Vj"
      },
      "source": [
        ""
      ]
    }
  ]
}