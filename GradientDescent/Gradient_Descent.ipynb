{
  "nbformat": 4,
  "nbformat_minor": 0,
  "metadata": {
    "colab": {
      "name": "Gradient_Descent.ipynb",
      "provenance": []
    },
    "kernelspec": {
      "name": "python3",
      "display_name": "Python 3"
    },
    "language_info": {
      "name": "python"
    }
  },
  "cells": [
    {
      "cell_type": "code",
      "metadata": {
        "colab": {
          "base_uri": "https://localhost:8080/",
          "height": 313
        },
        "id": "ED5zav6V6TL5",
        "outputId": "6bac1947-d362-451b-da13-941e858db72b"
      },
      "source": [
        "import numpy as np\n",
        "import matplotlib.pyplot as plt\n",
        "#creating the X and Y. X is the sample set with only one feature and Y is the corrsponding outcome\n",
        "X=np.array([1, 1.1, 1.2, 1.3, 1.4, 1.7, 1.9, 2, 2.1, 2.2 , 2.3, 2.5, 2.6, 3, 3.1, 3.2, 3.5, 3.6, 3.7, 4])\n",
        "Y=np.array([2.7, 3, 3.6, 3, 4, 4.6,  5, 5.5, 4.9, 5.2, 6, 6.2, 7, 7.5, 8, 6, 7.9, 9.1, 8.9, 9.5 ])\n",
        "X=X.T\n",
        "Y=Y.T\n",
        "print(X.shape)\n",
        "print(Y.shape)\n",
        "\n",
        "#Plotting the data\n",
        "plt.figure()\n",
        "plt.scatter(X, Y)\n",
        "plt.xlabel(\"X\")\n",
        "plt.ylabel(\"Y\")\n",
        "plt.show()"
      ],
      "execution_count": null,
      "outputs": [
        {
          "output_type": "stream",
          "name": "stdout",
          "text": [
            "(20,)\n",
            "(20,)\n"
          ]
        },
        {
          "output_type": "display_data",
          "data": {
            "image/png": "[encoded data removed]",
            "text/plain": [
              "<Figure size 432x288 with 1 Axes>"
            ]
          },
          "metadata": {
            "needs_background": "light"
          }
        }
      ]
    },
    {
      "cell_type": "code",
      "metadata": {
        "colab": {
          "base_uri": "https://localhost:8080/"
        },
        "id": "Kb3-BxX86W2b",
        "outputId": "d58ab062-9a24-4a34-930a-bc017d414753"
      },
      "source": [
        "#computing the cost\n",
        "#h=X.theta\n",
        "# J=1/2m*(h-y)\n",
        "def computeCost(X, y, theta):\n",
        "    h = np.dot(X, theta)\n",
        "    d = h - y\n",
        "    J = np.dot(d, d) / (2 * X.shape[0])\n",
        "    return J\n",
        "\n",
        "def gradientDescent(X, y, theta, alpha, num_iters):\n",
        "    J_history = np.zeros(num_iters)\n",
        "    for i in range(num_iters):\n",
        "        J_history[i] = computeCost(X, y, theta)\n",
        "        partial_dev=np.dot(X.T, (np.dot(X, theta)-y))\n",
        "        theta = (theta - (alpha / X.shape[0])*partial_dev)   \n",
        "    return theta, J_history\n",
        "\n",
        "A=np.ones((len(X), 1))\n",
        "A=np.squeeze(A)\n",
        "\n",
        "#Adding a constant 1 as a feature to each sample\n",
        "#As h=theta[0]*1+theta[1]*x\n",
        "#So data samples should be in the format [1 x]\n",
        "X_train= np.vstack((A,X))\n",
        "X_train=X_train.T\n",
        "theta = np.array([0, 0])\n",
        "\n",
        "print(computeCost(X_train, Y, theta))\n",
        "theta = np.array([-1, 2])\n",
        "print(computeCost(X_train, Y, theta))\n",
        "\n",
        "theta = np.array([0, 0])\n",
        "alpha = 0.01\n",
        "num_iters = 2000\n",
        "theta, J_history = gradientDescent(X_train, Y, theta, alpha, num_iters)\n",
        "print(theta)\n",
        "\n"
      ],
      "execution_count": null,
      "outputs": [
        {
          "output_type": "stream",
          "name": "stdout",
          "text": [
            "19.401999999999997\n",
            "2.431\n",
            "[0.7279303  2.17427507]\n"
          ]
        }
      ]
    },
    {
      "cell_type": "code",
      "metadata": {
        "colab": {
          "base_uri": "https://localhost:8080/",
          "height": 283
        },
        "id": "M3KR478BAqpy",
        "outputId": "a1141e38-9802-464d-dc3b-1bc821b97ffb"
      },
      "source": [
        "plt.figure()\n",
        "plt.scatter(X, Y)\n",
        "X_plot = np.linspace(0,7,10)\n",
        "plt.plot(X_plot, theta[0] + X_plot * theta[1],\n",
        "         color=\"red\", linewidth=2)\n",
        "\n",
        "\n",
        "plt.xlabel(\"X\")\n",
        "plt.ylabel(\"Y\")\n",
        "plt.xlim(.5, 5)\n",
        "plt.ylim(0,10)\n",
        "plt.show()"
      ],
      "execution_count": null,
      "outputs": [
        {
          "output_type": "display_data",
          "data": {
            "image/png": "[encoded data removed]",
            "text/plain": [
              "<Figure size 432x288 with 1 Axes>"
            ]
          },
          "metadata": {
            "needs_background": "light"
          }
        }
      ]
    },
    {
      "cell_type": "code",
      "metadata": {
        "colab": {
          "base_uri": "https://localhost:8080/",
          "height": 280
        },
        "id": "nPgjT-ciI0e-",
        "outputId": "622ca047-8bd4-4708-9e49-15b40f16cc5a"
      },
      "source": [
        "#plotting cost function\n",
        "plt.figure()\n",
        "plt.plot(np.arange(num_iters), J_history)\n",
        "plt.xlabel('Iterations')\n",
        "plt.ylabel('Cost')\n",
        "plt.show()"
      ],
      "execution_count": null,
      "outputs": [
        {
          "output_type": "display_data",
          "data": {
            "image/png": "[encoded data removed]",
            "text/plain": [
              "<Figure size 432x288 with 1 Axes>"
            ]
          },
          "metadata": {
            "needs_background": "light"
          }
        }
      ]
    }
  ]
}